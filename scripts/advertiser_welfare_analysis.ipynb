{
 "cells": [
  {
   "cell_type": "code",
   "execution_count": 1,
   "metadata": {},
   "outputs": [],
   "source": [
    "import numpy as np\n",
    "import pandas as pd\n",
    "import matplotlib.pyplot as plt\n",
    "import seaborn as sns\n"
   ]
  },
  {
   "cell_type": "markdown",
   "metadata": {},
   "source": [
    "# Uniform Pricing"
   ]
  },
  {
   "cell_type": "code",
   "execution_count": 2,
   "metadata": {},
   "outputs": [],
   "source": [
    "monopoly_results = pd.read_stata(f\"..\\\\results\\\\Full Model\\\\Simulation Results\\\\Simluation Results - Monopoly - All.dta\")\n",
    "split1_results = pd.read_stata(f\"..\\\\results\\\\Full Model\\\\Simulation Results\\\\Simluation Results - Split 1 2 - All.dta\")\n",
    "# split3_results = pd.read_stata(f\"..\\\\results\\\\Full Model\\\\Simulation Results\\\\Simluation Results - Split 3 4 - All.dta\")\n",
    "split5_results = pd.read_stata(f\"..\\\\results\\\\Full Model\\\\Simulation Results\\\\Simluation Results - Split 5 6 - All.dta\")\n",
    "split7_results = pd.read_stata(f\"..\\\\results\\\\Full Model\\\\Simulation Results\\\\Simluation Results - Split 7 8 - All.dta\")"
   ]
  },
  {
   "cell_type": "code",
   "execution_count": 3,
   "metadata": {},
   "outputs": [],
   "source": [
    "vals_data = pd.read_stata(f\"..\\\\data\\\\Full Model\\\\Advertiser Valuations.dta\")"
   ]
  },
  {
   "cell_type": "code",
   "execution_count": 80,
   "metadata": {},
   "outputs": [
    {
     "data": {
      "image/png": "[encoded data removed]",
      "text/plain": [
       "<Figure size 640x480 with 1 Axes>"
      ]
     },
     "metadata": {},
     "output_type": "display_data"
    }
   ],
   "source": [
    "plt.hist(vals_data['advertiser_val_cents'])\n",
    "plt.xlabel('Advertiser per-Click Valuation (Cents)')\n",
    "plt.ylabel('Number of Advertisers')\n",
    "plt.savefig(f\"..\\\\results\\\\Full Model\\\\Figures\\\\Advertiser Valuations.eps\", bbox_inches='tight')\n",
    "plt.show()"
   ]
  },
  {
   "cell_type": "code",
   "execution_count": 4,
   "metadata": {},
   "outputs": [],
   "source": [
    "monopoly_clicks = pd.DataFrame(monopoly_results.groupby(['ad'])['ctr'].agg('sum'))\n",
    "monopoly_clicks['advertiser_rank'] = monopoly_clicks.index\n",
    "monopoly_clicks['ctr'].rename('monopoly_clicks')\n",
    "split1_clicks = pd.DataFrame(split1_results.groupby(['ad'])['ctr'].agg('sum'))\n",
    "split1_clicks['advertiser_rank'] = split1_clicks.index\n",
    "split5_clicks = pd.DataFrame(split5_results.groupby(['ad'])['ctr'].agg('sum'))\n",
    "split5_clicks['advertiser_rank'] = split5_clicks.index\n",
    "split7_clicks = pd.DataFrame(split7_results.groupby(['ad'])['ctr'].agg('sum'))\n",
    "split7_clicks['advertiser_rank'] = split7_clicks.index"
   ]
  },
  {
   "cell_type": "code",
   "execution_count": 7,
   "metadata": {},
   "outputs": [],
   "source": [
    "joint_data = pd.merge(vals_data, monopoly_clicks, on='advertiser_rank', how='outer')\n",
    "joint_data.loc[joint_data['ctr'].isna(), 'ctr'] = 0\n",
    "joint_data['monopoly_welfare'] = joint_data['ctr'] * joint_data['advertiser_val_cents']\n",
    "joint_data = joint_data.rename(columns={'ctr': 'monopoly_clicks'})\n",
    "\n",
    "\n",
    "joint_data = pd.merge(joint_data, split1_clicks, on='advertiser_rank', how='outer')\n",
    "joint_data.loc[joint_data['ctr'].isna(), 'ctr'] = 0\n",
    "joint_data['split1_welfare'] = joint_data['ctr'] * joint_data['advertiser_val_cents']\n",
    "joint_data = joint_data.rename(columns={'ctr': 'split1_clicks'})\n",
    "\n",
    "\n",
    "joint_data = pd.merge(joint_data, split5_clicks, on='advertiser_rank', how='outer')\n",
    "joint_data.loc[joint_data['ctr'].isna(), 'ctr'] = 0\n",
    "joint_data['split5_welfare'] = joint_data['ctr'] * joint_data['advertiser_val_cents']\n",
    "joint_data = joint_data.rename(columns={'ctr': 'split5_clicks'})\n",
    "\n",
    "\n",
    "joint_data = pd.merge(joint_data, split7_clicks, on='advertiser_rank', how='outer')\n",
    "joint_data.loc[joint_data['ctr'].isna(), 'ctr'] = 0\n",
    "joint_data['split7_welfare'] = joint_data['ctr'] * joint_data['advertiser_val_cents']\n",
    "joint_data = joint_data.rename(columns={'ctr': 'split7_clicks'})"
   ]
  },
  {
   "cell_type": "code",
   "execution_count": 8,
   "metadata": {},
   "outputs": [
    {
     "data": {
      "image/png": "[encoded data removed]",
      "text/plain": [
       "<Figure size 640x480 with 1 Axes>"
      ]
     },
     "metadata": {},
     "output_type": "display_data"
    }
   ],
   "source": [
    "def plot_loghist(x, bins):\n",
    "  hist, bins = np.histogram(x, bins=bins)\n",
    "  logbins = np.logspace(np.log10(bins[0]),np.log10(bins[-1]),len(bins))\n",
    "  plt.hist(x, bins=logbins, histtype=u'step', linewidth=1.5)\n",
    "  plt.xscale('log')\n",
    "\n",
    "\n",
    "plot_loghist(joint_data.loc[joint_data['monopoly_welfare'] > 0, 'monopoly_welfare'], 10)\n",
    "plot_loghist(joint_data.loc[joint_data['split1_welfare'] > 0, 'split1_welfare'], 10)\n",
    "plot_loghist(joint_data.loc[joint_data['split5_welfare'] > 0, 'split5_welfare'], 10)\n"
   ]
  },
  {
   "cell_type": "code",
   "execution_count": 36,
   "metadata": {},
   "outputs": [
    {
     "data": {
      "text/html": [
       "<div>\n",
       "<style scoped>\n",
       "    .dataframe tbody tr th:only-of-type {\n",
       "        vertical-align: middle;\n",
       "    }\n",
       "\n",
       "    .dataframe tbody tr th {\n",
       "        vertical-align: top;\n",
       "    }\n",
       "\n",
       "    .dataframe thead th {\n",
       "        text-align: right;\n",
       "    }\n",
       "</style>\n",
       "<table border=\"1\" class=\"dataframe\">\n",
       "  <thead>\n",
       "    <tr style=\"text-align: right;\">\n",
       "      <th></th>\n",
       "      <th>0.10</th>\n",
       "      <th>0.25</th>\n",
       "      <th>0.50</th>\n",
       "      <th>0.75</th>\n",
       "      <th>0.90</th>\n",
       "    </tr>\n",
       "  </thead>\n",
       "  <tbody>\n",
       "    <tr>\n",
       "      <th>monopoly_clicks</th>\n",
       "      <td>0.000058</td>\n",
       "      <td>0.012832</td>\n",
       "      <td>0.103344</td>\n",
       "      <td>0.777206</td>\n",
       "      <td>3.787921</td>\n",
       "    </tr>\n",
       "    <tr>\n",
       "      <th>split1_clicks</th>\n",
       "      <td>0.000000</td>\n",
       "      <td>0.000000</td>\n",
       "      <td>0.041291</td>\n",
       "      <td>1.104286</td>\n",
       "      <td>2.415724</td>\n",
       "    </tr>\n",
       "    <tr>\n",
       "      <th>split5_clicks</th>\n",
       "      <td>0.000000</td>\n",
       "      <td>0.000000</td>\n",
       "      <td>0.062899</td>\n",
       "      <td>0.990349</td>\n",
       "      <td>2.138358</td>\n",
       "    </tr>\n",
       "    <tr>\n",
       "      <th>split7_clicks</th>\n",
       "      <td>0.000000</td>\n",
       "      <td>0.000000</td>\n",
       "      <td>0.354198</td>\n",
       "      <td>1.293260</td>\n",
       "      <td>2.054065</td>\n",
       "    </tr>\n",
       "  </tbody>\n",
       "</table>\n",
       "</div>"
      ],
      "text/plain": [
       "                     0.10      0.25      0.50      0.75      0.90\n",
       "monopoly_clicks  0.000058  0.012832  0.103344  0.777206  3.787921\n",
       "split1_clicks    0.000000  0.000000  0.041291  1.104286  2.415724\n",
       "split5_clicks    0.000000  0.000000  0.062899  0.990349  2.138358\n",
       "split7_clicks    0.000000  0.000000  0.354198  1.293260  2.054065"
      ]
     },
     "execution_count": 36,
     "metadata": {},
     "output_type": "execute_result"
    }
   ],
   "source": [
    "percentiles = [0.10, 0.25, 0.50, 0.75, 0.9]\n",
    "# joint_data[['monopoly_welfare', 'split1_welfare', 'split5_welfare', 'split7_welfare']].agg([np.percentile(20)]) / 100 / 100 * 40 / 2 * 365 # too make it annual (in USD)\n",
    "(joint_data.loc[joint_data['monopoly_clicks'] >0, ['monopoly_clicks', 'split1_clicks', 'split5_clicks', 'split7_clicks']].quantile(percentiles) / np.mean(joint_data.loc[joint_data['monopoly_clicks'] > 0,'monopoly_clicks'])).T"
   ]
  },
  {
   "cell_type": "code",
   "execution_count": 38,
   "metadata": {},
   "outputs": [
    {
     "data": {
      "text/html": [
       "<div>\n",
       "<style scoped>\n",
       "    .dataframe tbody tr th:only-of-type {\n",
       "        vertical-align: middle;\n",
       "    }\n",
       "\n",
       "    .dataframe tbody tr th {\n",
       "        vertical-align: top;\n",
       "    }\n",
       "\n",
       "    .dataframe thead th {\n",
       "        text-align: right;\n",
       "    }\n",
       "</style>\n",
       "<table border=\"1\" class=\"dataframe\">\n",
       "  <thead>\n",
       "    <tr style=\"text-align: right;\">\n",
       "      <th></th>\n",
       "      <th>mean</th>\n",
       "      <th>std</th>\n",
       "    </tr>\n",
       "  </thead>\n",
       "  <tbody>\n",
       "    <tr>\n",
       "      <th>monopoly_clicks</th>\n",
       "      <td>1.000000</td>\n",
       "      <td>1.836637</td>\n",
       "    </tr>\n",
       "    <tr>\n",
       "      <th>split1_clicks</th>\n",
       "      <td>0.810403</td>\n",
       "      <td>1.190313</td>\n",
       "    </tr>\n",
       "    <tr>\n",
       "      <th>split5_clicks</th>\n",
       "      <td>0.737932</td>\n",
       "      <td>1.280351</td>\n",
       "    </tr>\n",
       "    <tr>\n",
       "      <th>split7_clicks</th>\n",
       "      <td>0.752207</td>\n",
       "      <td>1.027992</td>\n",
       "    </tr>\n",
       "  </tbody>\n",
       "</table>\n",
       "</div>"
      ],
      "text/plain": [
       "                     mean       std\n",
       "monopoly_clicks  1.000000  1.836637\n",
       "split1_clicks    0.810403  1.190313\n",
       "split5_clicks    0.737932  1.280351\n",
       "split7_clicks    0.752207  1.027992"
      ]
     },
     "execution_count": 38,
     "metadata": {},
     "output_type": "execute_result"
    }
   ],
   "source": [
    "(joint_data.loc[joint_data['monopoly_clicks'] >0, ['monopoly_clicks', 'split1_clicks', 'split5_clicks', 'split7_clicks']].agg([np.mean, np.std])/ np.mean(joint_data.loc[joint_data['monopoly_clicks'] > 0,'monopoly_clicks'])).T"
   ]
  },
  {
   "cell_type": "code",
   "execution_count": 15,
   "metadata": {},
   "outputs": [
    {
     "data": {
      "text/plain": [
       "<matplotlib.legend.Legend at 0x1955daa8fd0>"
      ]
     },
     "execution_count": 15,
     "metadata": {},
     "output_type": "execute_result"
    },
    {
     "data": {
      "image/png": "[encoded data removed]",
      "text/plain": [
       "<Figure size 640x480 with 1 Axes>"
      ]
     },
     "metadata": {},
     "output_type": "display_data"
    }
   ],
   "source": [
    "plt.hist((joint_data['monopoly_clicks'] - joint_data['split1_clicks']) / (joint_data['split1_clicks'] + 1e-6) * 100, alpha=1, range= [-100, 100], bins=11)\n",
    "plt.hist((joint_data['monopoly_clicks'] - joint_data['split5_clicks']) / (joint_data['split5_clicks'] + 1e-6) * 100, alpha=0.6, range= [-100, 100], bins=11, color='red')\n",
    "np.mean(joint_data['monopoly_clicks'] - joint_data['split1_clicks']/ (joint_data['split1_clicks'] + 1e-6) * 100)\n",
    "\n",
    "plt.xlabel('Advertiser Welfare Gains (%)')\n",
    "plt.ylabel('Share of Advertisers (%)')\n",
    "labels = ['Split by Website\\n to Monopoly', 'Split by Wesite Subjcet\\n to Monopoly']\n",
    "# plt.title('Estimated Click Rates Distribution for Top 10 Ads')\n",
    "\n",
    "plt.legend(labels)\n",
    "# plt.grid(True)"
   ]
  },
  {
   "cell_type": "markdown",
   "metadata": {},
   "source": [
    "# Under Non-Uniform Pricing"
   ]
  },
  {
   "cell_type": "code",
   "execution_count": 18,
   "metadata": {},
   "outputs": [],
   "source": [
    "monopoly_results = pd.read_stata(f\"..\\\\results\\\\Full Model\\\\Simulation Results\\\\Simluation Results - Monopoly Revenue Max - All.dta\")\n",
    "split1_results = pd.read_stata(f\"..\\\\results\\\\Full Model\\\\Simulation Results\\\\Simluation Results - Split 1 2 Revenue Max - All.dta\")\n",
    "# split3_results = pd.read_stata(f\"..\\\\results\\\\Full Model\\\\Simulation Results\\\\Simluation Results - Split 3 4 - All.dta\")\n",
    "split5_results = pd.read_stata(f\"..\\\\results\\\\Full Model\\\\Simulation Results\\\\Simluation Results - Split 5 6 Revenue Max - All.dta\")\n",
    "split7_results = pd.read_stata(f\"..\\\\results\\\\Full Model\\\\Simulation Results\\\\Simluation Results - Split 7 8 Revenue Max - All.dta\")"
   ]
  },
  {
   "cell_type": "code",
   "execution_count": 24,
   "metadata": {},
   "outputs": [],
   "source": [
    "monopoly_clicks = pd.DataFrame(monopoly_results.groupby(['ad'])[['ctr', 'rev']].agg('sum'))\n",
    "monopoly_clicks['advertiser_rank'] = monopoly_clicks.index\n",
    "split1_clicks = pd.DataFrame(split1_results.groupby(['ad'])[['ctr', 'rev']].agg('sum'))\n",
    "split1_clicks['advertiser_rank'] = split1_clicks.index\n",
    "split5_clicks = pd.DataFrame(split5_results.groupby(['ad'])[['ctr', 'rev']].agg('sum'))\n",
    "split5_clicks['advertiser_rank'] = split5_clicks.index\n",
    "split7_clicks = pd.DataFrame(split7_results.groupby(['ad'])[['ctr', 'rev']].agg('sum'))\n",
    "split7_clicks['advertiser_rank'] = split7_clicks.index"
   ]
  },
  {
   "cell_type": "code",
   "execution_count": 25,
   "metadata": {},
   "outputs": [],
   "source": [
    "monopoly_clicks = monopoly_clicks.rename(columns={'ctr': 'monopoly_clicks', 'rev': 'monopoly_welfare'})\n",
    "split1_clicks = split1_clicks.rename(columns={'ctr': 'split1_clicks', 'rev': 'split1_welfare'})\n",
    "split5_clicks = split5_clicks.rename(columns={'ctr': 'split5_clicks', 'rev': 'split5_welfare'})\n",
    "split7_clicks = split7_clicks.rename(columns={'ctr': 'split7_clicks', 'rev': 'split7_welfare'})\n"
   ]
  },
  {
   "cell_type": "code",
   "execution_count": 34,
   "metadata": {},
   "outputs": [],
   "source": [
    "joint_data = pd.merge(monopoly_clicks, split1_clicks, on='advertiser_rank', how='outer')\n",
    "joint_data = pd.merge(joint_data, split5_clicks, on='advertiser_rank', how='outer')\n",
    "joint_data = pd.merge(joint_data, split7_clicks, on='advertiser_rank', how='outer')\n",
    "\n",
    "for var in joint_data.columns:\n",
    "    joint_data.loc[joint_data[var].isna(), var] = 0"
   ]
  },
  {
   "cell_type": "code",
   "execution_count": 38,
   "metadata": {},
   "outputs": [],
   "source": [
    "percentiles = [0.10, 0.25, 0.50, 0.75, 0.9]\n",
    "# joint_data[['monopoly_welfare', 'split1_welfare', 'split5_welfare', 'split7_welfare']].agg([np.percentile(20)]) / 100 / 100 * 40 / 2 * 365 # too make it annual (in USD)\n",
    "table_1 = (joint_data.loc[joint_data['monopoly_welfare'] > 0, ['monopoly_welfare', 'split1_welfare', 'split5_welfare', 'split7_welfare']].quantile(percentiles) / np.mean(joint_data.loc[joint_data['monopoly_welfare'] > 0,'monopoly_welfare'])).T\n"
   ]
  },
  {
   "cell_type": "code",
   "execution_count": 39,
   "metadata": {},
   "outputs": [],
   "source": [
    "table_2 = (joint_data[['monopoly_welfare', 'split1_welfare', 'split5_welfare', 'split7_welfare']].agg([np.mean, np.std]) / np.mean(joint_data['monopoly_welfare'])).T\n",
    "table_1 = pd.merge"
   ]
  },
  {
   "cell_type": "code",
   "execution_count": 45,
   "metadata": {},
   "outputs": [
    {
     "data": {
      "text/html": [
       "<div>\n",
       "<style scoped>\n",
       "    .dataframe tbody tr th:only-of-type {\n",
       "        vertical-align: middle;\n",
       "    }\n",
       "\n",
       "    .dataframe tbody tr th {\n",
       "        vertical-align: top;\n",
       "    }\n",
       "\n",
       "    .dataframe thead th {\n",
       "        text-align: right;\n",
       "    }\n",
       "</style>\n",
       "<table border=\"1\" class=\"dataframe\">\n",
       "  <thead>\n",
       "    <tr style=\"text-align: right;\">\n",
       "      <th></th>\n",
       "      <th>mean</th>\n",
       "      <th>std</th>\n",
       "      <th>0.1</th>\n",
       "      <th>0.25</th>\n",
       "      <th>0.5</th>\n",
       "      <th>0.75</th>\n",
       "      <th>0.9</th>\n",
       "    </tr>\n",
       "  </thead>\n",
       "  <tbody>\n",
       "    <tr>\n",
       "      <th>monopoly_welfare</th>\n",
       "      <td>1.000000</td>\n",
       "      <td>2.378804</td>\n",
       "      <td>1.146392e-04</td>\n",
       "      <td>0.004985</td>\n",
       "      <td>0.093173</td>\n",
       "      <td>0.966330</td>\n",
       "      <td>3.145911</td>\n",
       "    </tr>\n",
       "    <tr>\n",
       "      <th>split1_welfare</th>\n",
       "      <td>0.958475</td>\n",
       "      <td>2.340884</td>\n",
       "      <td>0.000000e+00</td>\n",
       "      <td>0.000529</td>\n",
       "      <td>0.087224</td>\n",
       "      <td>0.605751</td>\n",
       "      <td>2.747705</td>\n",
       "    </tr>\n",
       "    <tr>\n",
       "      <th>split5_welfare</th>\n",
       "      <td>0.953184</td>\n",
       "      <td>2.279751</td>\n",
       "      <td>2.295667e-07</td>\n",
       "      <td>0.007509</td>\n",
       "      <td>0.041034</td>\n",
       "      <td>0.986645</td>\n",
       "      <td>2.830409</td>\n",
       "    </tr>\n",
       "    <tr>\n",
       "      <th>split7_welfare</th>\n",
       "      <td>0.957158</td>\n",
       "      <td>2.230402</td>\n",
       "      <td>0.000000e+00</td>\n",
       "      <td>0.004847</td>\n",
       "      <td>0.085279</td>\n",
       "      <td>0.565441</td>\n",
       "      <td>3.516042</td>\n",
       "    </tr>\n",
       "  </tbody>\n",
       "</table>\n",
       "</div>"
      ],
      "text/plain": [
       "                      mean       std           0.1      0.25       0.5  \\\n",
       "monopoly_welfare  1.000000  2.378804  1.146392e-04  0.004985  0.093173   \n",
       "split1_welfare    0.958475  2.340884  0.000000e+00  0.000529  0.087224   \n",
       "split5_welfare    0.953184  2.279751  2.295667e-07  0.007509  0.041034   \n",
       "split7_welfare    0.957158  2.230402  0.000000e+00  0.004847  0.085279   \n",
       "\n",
       "                      0.75       0.9  \n",
       "monopoly_welfare  0.966330  3.145911  \n",
       "split1_welfare    0.605751  2.747705  \n",
       "split5_welfare    0.986645  2.830409  \n",
       "split7_welfare    0.565441  3.516042  "
      ]
     },
     "execution_count": 45,
     "metadata": {},
     "output_type": "execute_result"
    }
   ],
   "source": [
    "table_2.merge(table_1, left_index=True, right_index=True)"
   ]
  }
 ],
 "metadata": {
  "kernelspec": {
   "display_name": "online_ads",
   "language": "python",
   "name": "python3"
  },
  "language_info": {
   "codemirror_mode": {
    "name": "ipython",
    "version": 3
   },
   "file_extension": ".py",
   "mimetype": "text/x-python",
   "name": "python",
   "nbconvert_exporter": "python",
   "pygments_lexer": "ipython3",
   "version": "3.8.18"
  }
 },
 "nbformat": 4,
 "nbformat_minor": 2
}
