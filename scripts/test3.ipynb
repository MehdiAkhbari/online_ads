{
 "cells": [
  {
   "cell_type": "code",
   "execution_count": 2,
   "metadata": {},
   "outputs": [
    {
     "name": "stdout",
     "output_type": "stream",
     "text": [
      "rank 20 model loaded!\n",
      "rank 40 model loaded!\n",
      "rank 60 model loaded!\n",
      "rank 80 model loaded!\n",
      "rank 100 model loaded!\n"
     ]
    }
   ],
   "source": [
    "\n",
    "import config\n",
    "from utils import *\n",
    "\n"
   ]
  },
  {
   "cell_type": "code",
   "execution_count": 3,
   "metadata": {},
   "outputs": [],
   "source": [
    "\n",
    "start_time_1 = time.perf_counter()\n",
    "# read data\n",
    "file_name = \"Estimation Data by Subject - Last Two Days Binary.dta\"\n",
    "file_dir = \"..\\\\data\\\\\"\n",
    "file_dir_name = file_dir + file_name\n",
    "data = pd.read_stata(file_dir_name)\n",
    "\n",
    "\n",
    "# only keep the base ad\n",
    "data = data[data['advertiser_rank'] == base_ad]\n",
    "\n",
    "# Define X variables (Note that I am not using previous_clicks and i mpression_repeat variables here, because I'm only using base ad repeats and clicks here)\n",
    "X = data[['previous_clicks_all_ads',\n",
    "    'impression_repeat_base_ad', 'previous_clicks_base_ad', 'total_visits',\n",
    "    'visit_s1', 'visit_s2', 'visit_s3', 'visit_s4', 'visit_s5', 'visit_s6',\n",
    "    'visit_s7', 'visit_s8', 'visit_s9', 'visit_s10', 'visit_s11',\n",
    "    'visit_s12', 'visit_s13', 'visit_s14', 'visit_s15', 'visit_s16',\n",
    "    'visit_s17', 'visit_s18', 'visit_s19', 'visit_s20', 'visit_s21',\n",
    "    'visit_s22', 'visit_s23', 'visit_s24', 'visit_s25', 'visit_s26',\n",
    "    'sub_1', 'sub_2', 'sub_3', 'sub_4', 'sub_5', 'sub_6', 'sub_7', 'sub_8',\n",
    "    'sub_9', 'sub_10', 'sub_11', 'sub_12', 'sub_13', 'sub_14', 'sub_15',\n",
    "    'sub_16', 'sub_17', 'sub_18', 'sub_19', 'sub_20', 'sub_21', 'sub_22',\n",
    "    'sub_23', 'sub_24', 'sub_25', 'sub_26', 'mobile']]\n",
    "\n",
    "Y = data['is_clicked']\n",
    "\n"
   ]
  },
  {
   "cell_type": "code",
   "execution_count": 5,
   "metadata": {},
   "outputs": [
    {
     "name": "stdout",
     "output_type": "stream",
     "text": [
      "Fitting 5 folds for each of 48 candidates, totalling 240 fits\n",
      "finished tuning the y0 model in 1200.4566747 seconds\n",
      "finished in 1429.5135788 seconds\n"
     ]
    }
   ],
   "source": [
    "\n",
    "# Define the hyperparameters to search over\n",
    "param_grid = {\n",
    "    'n_estimators': [200, 500, 1000],\n",
    "    'max_depth': [10, 20, 30, 40],\n",
    "    'min_samples_split': [1000 , 2000, 3000, 5000]\n",
    "}\n",
    "\n",
    "\n",
    "start_time = time.perf_counter()\n",
    "y0_model = RandomForestRegressor(verbose=0, n_jobs=30)\n",
    "\n",
    "# Perform grid search cross-validation\n",
    "grid_search = GridSearchCV(estimator=y0_model, param_grid=param_grid, cv=5, verbose=1)\n",
    "grid_search.fit(X, Y)\n",
    "\n",
    "best_params = grid_search.best_params_\n",
    "best_estimator = grid_search.best_estimator_\n",
    "finish_time = time.perf_counter()\n",
    "print(f\"finished tuning the y0 model in {finish_time - start_time} seconds\")\n",
    "\n",
    "base_ad_y_model = best_estimator\n",
    "\n",
    "# save the model\n",
    "file_name = f\"..\\\\results\\\\main_scenario\\\\base_ad_y_model.pkl\"\n",
    "joblib.dump(base_ad_y_model, file_name)\n",
    "finish_time_1 = time.perf_counter()\n",
    "print(f\"finished in {finish_time_1 - start_time_1} seconds\")"
   ]
  }
 ],
 "metadata": {
  "kernelspec": {
   "display_name": "online_ads",
   "language": "python",
   "name": "python3"
  },
  "language_info": {
   "codemirror_mode": {
    "name": "ipython",
    "version": 3
   },
   "file_extension": ".py",
   "mimetype": "text/x-python",
   "name": "python",
   "nbconvert_exporter": "python",
   "pygments_lexer": "ipython3",
   "version": "3.8.18"
  }
 },
 "nbformat": 4,
 "nbformat_minor": 2
}
